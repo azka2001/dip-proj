{
  "nbformat": 4,
  "nbformat_minor": 0,
  "metadata": {
    "colab": {
      "provenance": [],
      "authorship_tag": "ABX9TyPdtE5KsyDJWLL2OO8jxkvN",
      "include_colab_link": true
    },
    "kernelspec": {
      "name": "python3",
      "display_name": "Python 3"
    },
    "language_info": {
      "name": "python"
    }
  },
  "cells": [
    {
      "cell_type": "markdown",
      "metadata": {
        "id": "view-in-github",
        "colab_type": "text"
      },
      "source": [
        "<a href=\"https://colab.research.google.com/github/azka2001/dip-proj/blob/main/DIPProject.ipynb\" target=\"_parent\"><img src=\"https://colab.research.google.com/assets/colab-badge.svg\" alt=\"Open In Colab\"/></a>"
      ]
    },
    {
      "cell_type": "code",
      "execution_count": 10,
      "metadata": {
        "id": "LTXKkf_oiQrQ",
        "colab": {
          "base_uri": "https://localhost:8080/",
          "height": 428
        },
        "outputId": "7586178f-f919-478f-9fb2-cfd3e284f6ff"
      },
      "outputs": [
        {
          "output_type": "stream",
          "name": "stdout",
          "text": [
            "Looking in indexes: https://pypi.org/simple, https://us-python.pkg.dev/colab-wheels/public/simple/\n",
            "\u001b[31mERROR: Could not find a version that satisfies the requirement darkflow.net.build (from versions: none)\u001b[0m\u001b[31m\n",
            "\u001b[0m\u001b[31mERROR: No matching distribution found for darkflow.net.build\u001b[0m\u001b[31m\n",
            "\u001b[0m"
          ]
        },
        {
          "output_type": "error",
          "ename": "ModuleNotFoundError",
          "evalue": "ignored",
          "traceback": [
            "\u001b[0;31m---------------------------------------------------------------------------\u001b[0m",
            "\u001b[0;31mModuleNotFoundError\u001b[0m                       Traceback (most recent call last)",
            "\u001b[0;32m<ipython-input-10-c573ccbcdb71>\u001b[0m in \u001b[0;36m<cell line: 5>\u001b[0;34m()\u001b[0m\n\u001b[1;32m      3\u001b[0m \u001b[0;32mimport\u001b[0m \u001b[0mnumpy\u001b[0m \u001b[0;32mas\u001b[0m \u001b[0mnp\u001b[0m\u001b[0;34m\u001b[0m\u001b[0;34m\u001b[0m\u001b[0m\n\u001b[1;32m      4\u001b[0m \u001b[0mget_ipython\u001b[0m\u001b[0;34m(\u001b[0m\u001b[0;34m)\u001b[0m\u001b[0;34m.\u001b[0m\u001b[0msystem\u001b[0m\u001b[0;34m(\u001b[0m\u001b[0;34m'pip install darkflow.net.build'\u001b[0m\u001b[0;34m)\u001b[0m\u001b[0;34m\u001b[0m\u001b[0;34m\u001b[0m\u001b[0m\n\u001b[0;32m----> 5\u001b[0;31m \u001b[0;32mfrom\u001b[0m \u001b[0mdarkflow\u001b[0m\u001b[0;34m.\u001b[0m\u001b[0mnet\u001b[0m\u001b[0;34m.\u001b[0m\u001b[0mbuild\u001b[0m \u001b[0;32mimport\u001b[0m \u001b[0mTFNet\u001b[0m\u001b[0;34m\u001b[0m\u001b[0;34m\u001b[0m\u001b[0m\n\u001b[0m\u001b[1;32m      6\u001b[0m \u001b[0;32mimport\u001b[0m \u001b[0mcv2\u001b[0m\u001b[0;34m\u001b[0m\u001b[0;34m\u001b[0m\u001b[0m\n\u001b[1;32m      7\u001b[0m \u001b[0;32mimport\u001b[0m \u001b[0mos\u001b[0m\u001b[0;34m\u001b[0m\u001b[0;34m\u001b[0m\u001b[0m\n",
            "\u001b[0;31mModuleNotFoundError\u001b[0m: No module named 'darkflow'",
            "",
            "\u001b[0;31m---------------------------------------------------------------------------\u001b[0;32m\nNOTE: If your import is failing due to a missing package, you can\nmanually install dependencies using either !pip or !apt.\n\nTo view examples of installing some common dependencies, click the\n\"Open Examples\" button below.\n\u001b[0;31m---------------------------------------------------------------------------\u001b[0m\n"
          ],
          "errorDetails": {
            "actions": [
              {
                "action": "open_url",
                "actionText": "Open Examples",
                "url": "/notebooks/snippets/importing_libraries.ipynb"
              }
            ]
          }
        }
      ],
      "source": [
        "%matplotlib inline\n",
        "import matplotlib.pyplot as plt\n",
        "import numpy as np\n",
        "!pip install darkflow.net.build\n",
        "from darkflow.net.build import TFNet\n",
        "import cv2\n",
        "import os"
      ]
    },
    {
      "cell_type": "code",
      "metadata": {
        "id": "QW2sYEc47x5A",
        "colab": {
          "base_uri": "https://localhost:8080/",
          "height": 1000
        },
        "outputId": "8ee81254-92db-4f77-fc4b-819db7e8a8cb"
      },
      "source": [
        "# Install required libraries\n",
        "!pip install tensorflow-gpu==1.15.0rc2\n",
        "!pip install imageio\n",
        "\n",
        "# Download and build darkflow (the tensorflow implementation of YOLO)\n",
        "import os\n",
        "import pathlib\n",
        "\n",
        "if \"darkflow-master\" in pathlib.Path.cwd().parts:\n",
        "  while \"darkflow-master\" in pathlib.Path.cwd().parts:\n",
        "    os.chdir('..')\n",
        "elif not pathlib.Path(\"darkflow-master\").exists():\n",
        "  !git clone --depth 1 https://github.com/thtrieu/darkflow.git\n",
        "  # Compile darkflow\n",
        "  %cd darkflow\n",
        "  !python setup.py build_ext --inplace\n",
        "  # Change darkflow to darkflow-master to distinguish between folder names\n",
        "  %cd ../\n",
        "  !mv darkflow darkflow-master\n",
        "  %cd darkflow-master\n",
        "\n",
        "# Upload yolo.weights, pre-trained weights file (for YOLO v2) from an external Google drive \n",
        "weights = 'yolo'\n",
        "weights_file = weights + '.weights'\n",
        "if not os.path.exists('weights_file'):\n",
        "  !gdown --id 0B1tW_VtY7oniTnBYYWdqSHNGSUU\n",
        "  !mkdir bin\n",
        "  !mv yolo.weights bin\n",
        "\n",
        "# Imports\n",
        "%cd darkflow-master\n",
        "%tensorflow_version 1.15.0rc2\n",
        "\n",
        "# For importing/exporting files, working with arrays, etc\n",
        "import time\n",
        "import urllib\n",
        "import numpy as np\n",
        "import pandas as pd\n",
        "import imageio\n",
        "\n",
        "# For actual object detection\n",
        "import tensorflow as tf\n",
        "from darkflow.net.build import TFNet\n",
        "threshold = 0.25\n",
        "\n",
        "# For drawing onto and plotting images\n",
        "import matplotlib.pyplot as plt\n",
        "import cv2\n",
        "%config InlineBackend.figure_format = 'svg'"
      ],
      "execution_count": 11,
      "outputs": [
        {
          "output_type": "stream",
          "name": "stdout",
          "text": [
            "Looking in indexes: https://pypi.org/simple, https://us-python.pkg.dev/colab-wheels/public/simple/\n",
            "\u001b[31mERROR: Could not find a version that satisfies the requirement tensorflow-gpu==1.15.0rc2 (from versions: 2.8.0rc0, 2.8.0rc1, 2.8.0, 2.8.1, 2.8.2, 2.8.3, 2.8.4, 2.9.0rc0, 2.9.0rc1, 2.9.0rc2, 2.9.0, 2.9.1, 2.9.2, 2.9.3, 2.10.0rc0, 2.10.0rc1, 2.10.0rc2, 2.10.0rc3, 2.10.0, 2.10.1, 2.11.0rc0, 2.11.0rc1, 2.11.0rc2, 2.11.0, 2.12.0)\u001b[0m\u001b[31m\n",
            "\u001b[0m\u001b[31mERROR: No matching distribution found for tensorflow-gpu==1.15.0rc2\u001b[0m\u001b[31m\n",
            "\u001b[0mLooking in indexes: https://pypi.org/simple, https://us-python.pkg.dev/colab-wheels/public/simple/\n",
            "Requirement already satisfied: imageio in /usr/local/lib/python3.10/dist-packages (2.25.1)\n",
            "Requirement already satisfied: numpy in /usr/local/lib/python3.10/dist-packages (from imageio) (1.22.4)\n",
            "Requirement already satisfied: pillow>=8.3.2 in /usr/local/lib/python3.10/dist-packages (from imageio) (8.4.0)\n",
            "Cloning into 'darkflow'...\n",
            "remote: Enumerating objects: 105, done.\u001b[K\n",
            "remote: Counting objects: 100% (105/105), done.\u001b[K\n",
            "remote: Compressing objects: 100% (79/79), done.\u001b[K\n",
            "remote: Total 105 (delta 21), reused 99 (delta 21), pack-reused 0\u001b[K\n",
            "Receiving objects: 100% (105/105), 16.41 MiB | 8.99 MiB/s, done.\n",
            "Resolving deltas: 100% (21/21), done.\n",
            "/content/darkflow\n",
            "/content/darkflow/setup.py:6: DeprecationWarning: the imp module is deprecated in favour of importlib and slated for removal in Python 3.12; see the module's documentation for alternative uses\n",
            "  import imp\n",
            "Compiling darkflow/cython_utils/nms.pyx because it changed.\n",
            "Compiling darkflow/cython_utils/cy_yolo2_findboxes.pyx because it changed.\n",
            "Compiling darkflow/cython_utils/cy_yolo_findboxes.pyx because it changed.\n",
            "[1/3] Cythonizing darkflow/cython_utils/cy_yolo2_findboxes.pyx\n",
            "/usr/local/lib/python3.10/dist-packages/Cython/Compiler/Main.py:369: FutureWarning: Cython directive 'language_level' not set, using 2 for now (Py2). This will change in a later release! File: /content/darkflow/darkflow/cython_utils/cy_yolo2_findboxes.pyx\n",
            "  tree = Parsing.p_module(s, pxd, full_module_name)\n",
            "[2/3] Cythonizing darkflow/cython_utils/cy_yolo_findboxes.pyx\n",
            "/usr/local/lib/python3.10/dist-packages/Cython/Compiler/Main.py:369: FutureWarning: Cython directive 'language_level' not set, using 2 for now (Py2). This will change in a later release! File: /content/darkflow/darkflow/cython_utils/cy_yolo_findboxes.pyx\n",
            "  tree = Parsing.p_module(s, pxd, full_module_name)\n",
            "[3/3] Cythonizing darkflow/cython_utils/nms.pyx\n",
            "/usr/local/lib/python3.10/dist-packages/Cython/Compiler/Main.py:369: FutureWarning: Cython directive 'language_level' not set, using 2 for now (Py2). This will change in a later release! File: /content/darkflow/darkflow/cython_utils/nms.pxd\n",
            "  tree = Parsing.p_module(s, pxd, full_module_name)\n",
            "running build_ext\n",
            "building 'darkflow.cython_utils.nms' extension\n",
            "creating build\n",
            "creating build/temp.linux-x86_64-cpython-310\n",
            "creating build/temp.linux-x86_64-cpython-310/darkflow\n",
            "creating build/temp.linux-x86_64-cpython-310/darkflow/cython_utils\n",
            "x86_64-linux-gnu-gcc -pthread -Wno-unused-result -Wsign-compare -DNDEBUG -g -fwrapv -O2 -Wall -g -fstack-protector-strong -Wformat -Werror=format-security -g -fwrapv -O2 -fPIC -I/usr/local/lib/python3.10/dist-packages/numpy/core/include -I/usr/include/python3.10 -c darkflow/cython_utils/nms.c -o build/temp.linux-x86_64-cpython-310/darkflow/cython_utils/nms.o\n",
            "In file included from \u001b[01m\u001b[K/usr/local/lib/python3.10/dist-packages/numpy/core/include/numpy/ndarraytypes.h:1960\u001b[m\u001b[K,\n",
            "                 from \u001b[01m\u001b[K/usr/local/lib/python3.10/dist-packages/numpy/core/include/numpy/ndarrayobject.h:12\u001b[m\u001b[K,\n",
            "                 from \u001b[01m\u001b[K/usr/local/lib/python3.10/dist-packages/numpy/core/include/numpy/arrayobject.h:5\u001b[m\u001b[K,\n",
            "                 from \u001b[01m\u001b[Kdarkflow/cython_utils/nms.c:771\u001b[m\u001b[K:\n",
            "\u001b[01m\u001b[K/usr/local/lib/python3.10/dist-packages/numpy/core/include/numpy/npy_1_7_deprecated_api.h:17:2:\u001b[m\u001b[K \u001b[01;35m\u001b[Kwarning: \u001b[m\u001b[K#warning \"Using deprecated NumPy API, disable it with \" \"#define NPY_NO_DEPRECATED_API NPY_1_7_API_VERSION\" [\u001b[01;35m\u001b[K-Wcpp\u001b[m\u001b[K]\n",
            "   17 | #\u001b[01;35m\u001b[Kwarning\u001b[m\u001b[K \"Using deprecated NumPy API, disable it with \" \\\n",
            "      |  \u001b[01;35m\u001b[K^~~~~~~\u001b[m\u001b[K\n",
            "creating build/lib.linux-x86_64-cpython-310\n",
            "creating build/lib.linux-x86_64-cpython-310/darkflow\n",
            "creating build/lib.linux-x86_64-cpython-310/darkflow/cython_utils\n",
            "x86_64-linux-gnu-gcc -pthread -shared -Wl,-O1 -Wl,-Bsymbolic-functions -Wl,-Bsymbolic-functions -g -fwrapv -O2 build/temp.linux-x86_64-cpython-310/darkflow/cython_utils/nms.o -L/usr/lib/x86_64-linux-gnu -lm -o build/lib.linux-x86_64-cpython-310/darkflow/cython_utils/nms.cpython-310-x86_64-linux-gnu.so\n",
            "building 'darkflow.cython_utils.cy_yolo2_findboxes' extension\n",
            "x86_64-linux-gnu-gcc -pthread -Wno-unused-result -Wsign-compare -DNDEBUG -g -fwrapv -O2 -Wall -g -fstack-protector-strong -Wformat -Werror=format-security -g -fwrapv -O2 -fPIC -I/usr/local/lib/python3.10/dist-packages/numpy/core/include -I/usr/include/python3.10 -c darkflow/cython_utils/cy_yolo2_findboxes.c -o build/temp.linux-x86_64-cpython-310/darkflow/cython_utils/cy_yolo2_findboxes.o\n",
            "In file included from \u001b[01m\u001b[K/usr/local/lib/python3.10/dist-packages/numpy/core/include/numpy/ndarraytypes.h:1960\u001b[m\u001b[K,\n",
            "                 from \u001b[01m\u001b[K/usr/local/lib/python3.10/dist-packages/numpy/core/include/numpy/ndarrayobject.h:12\u001b[m\u001b[K,\n",
            "                 from \u001b[01m\u001b[K/usr/local/lib/python3.10/dist-packages/numpy/core/include/numpy/arrayobject.h:5\u001b[m\u001b[K,\n",
            "                 from \u001b[01m\u001b[Kdarkflow/cython_utils/cy_yolo2_findboxes.c:771\u001b[m\u001b[K:\n",
            "\u001b[01m\u001b[K/usr/local/lib/python3.10/dist-packages/numpy/core/include/numpy/npy_1_7_deprecated_api.h:17:2:\u001b[m\u001b[K \u001b[01;35m\u001b[Kwarning: \u001b[m\u001b[K#warning \"Using deprecated NumPy API, disable it with \" \"#define NPY_NO_DEPRECATED_API NPY_1_7_API_VERSION\" [\u001b[01;35m\u001b[K-Wcpp\u001b[m\u001b[K]\n",
            "   17 | #\u001b[01;35m\u001b[Kwarning\u001b[m\u001b[K \"Using deprecated NumPy API, disable it with \" \\\n",
            "      |  \u001b[01;35m\u001b[K^~~~~~~\u001b[m\u001b[K\n",
            "x86_64-linux-gnu-gcc -pthread -shared -Wl,-O1 -Wl,-Bsymbolic-functions -Wl,-Bsymbolic-functions -g -fwrapv -O2 build/temp.linux-x86_64-cpython-310/darkflow/cython_utils/cy_yolo2_findboxes.o -L/usr/lib/x86_64-linux-gnu -lm -o build/lib.linux-x86_64-cpython-310/darkflow/cython_utils/cy_yolo2_findboxes.cpython-310-x86_64-linux-gnu.so\n",
            "building 'darkflow.cython_utils.cy_yolo_findboxes' extension\n",
            "x86_64-linux-gnu-gcc -pthread -Wno-unused-result -Wsign-compare -DNDEBUG -g -fwrapv -O2 -Wall -g -fstack-protector-strong -Wformat -Werror=format-security -g -fwrapv -O2 -fPIC -I/usr/local/lib/python3.10/dist-packages/numpy/core/include -I/usr/include/python3.10 -c darkflow/cython_utils/cy_yolo_findboxes.c -o build/temp.linux-x86_64-cpython-310/darkflow/cython_utils/cy_yolo_findboxes.o\n",
            "In file included from \u001b[01m\u001b[K/usr/local/lib/python3.10/dist-packages/numpy/core/include/numpy/ndarraytypes.h:1960\u001b[m\u001b[K,\n",
            "                 from \u001b[01m\u001b[K/usr/local/lib/python3.10/dist-packages/numpy/core/include/numpy/ndarrayobject.h:12\u001b[m\u001b[K,\n",
            "                 from \u001b[01m\u001b[K/usr/local/lib/python3.10/dist-packages/numpy/core/include/numpy/arrayobject.h:5\u001b[m\u001b[K,\n",
            "                 from \u001b[01m\u001b[Kdarkflow/cython_utils/cy_yolo_findboxes.c:771\u001b[m\u001b[K:\n",
            "\u001b[01m\u001b[K/usr/local/lib/python3.10/dist-packages/numpy/core/include/numpy/npy_1_7_deprecated_api.h:17:2:\u001b[m\u001b[K \u001b[01;35m\u001b[Kwarning: \u001b[m\u001b[K#warning \"Using deprecated NumPy API, disable it with \" \"#define NPY_NO_DEPRECATED_API NPY_1_7_API_VERSION\" [\u001b[01;35m\u001b[K-Wcpp\u001b[m\u001b[K]\n",
            "   17 | #\u001b[01;35m\u001b[Kwarning\u001b[m\u001b[K \"Using deprecated NumPy API, disable it with \" \\\n",
            "      |  \u001b[01;35m\u001b[K^~~~~~~\u001b[m\u001b[K\n",
            "x86_64-linux-gnu-gcc -pthread -shared -Wl,-O1 -Wl,-Bsymbolic-functions -Wl,-Bsymbolic-functions -g -fwrapv -O2 build/temp.linux-x86_64-cpython-310/darkflow/cython_utils/cy_yolo_findboxes.o -L/usr/lib/x86_64-linux-gnu -lm -o build/lib.linux-x86_64-cpython-310/darkflow/cython_utils/cy_yolo_findboxes.cpython-310-x86_64-linux-gnu.so\n",
            "copying build/lib.linux-x86_64-cpython-310/darkflow/cython_utils/nms.cpython-310-x86_64-linux-gnu.so -> darkflow/cython_utils\n",
            "copying build/lib.linux-x86_64-cpython-310/darkflow/cython_utils/cy_yolo2_findboxes.cpython-310-x86_64-linux-gnu.so -> darkflow/cython_utils\n",
            "copying build/lib.linux-x86_64-cpython-310/darkflow/cython_utils/cy_yolo_findboxes.cpython-310-x86_64-linux-gnu.so -> darkflow/cython_utils\n",
            "/content\n",
            "/content/darkflow-master\n",
            "/usr/local/lib/python3.10/dist-packages/gdown/cli.py:121: FutureWarning: Option `--id` was deprecated in version 4.3.1 and will be removed in 5.0. You don't need to pass it anymore to use a file ID.\n",
            "  warnings.warn(\n",
            "Access denied with the following error:\n",
            "\n",
            " \tCannot retrieve the public link of the file. You may need to change\n",
            "\tthe permission to 'Anyone with the link', or have had many accesses. \n",
            "\n",
            "You may still be able to access the file from the browser:\n",
            "\n",
            "\t https://drive.google.com/uc?id=0B1tW_VtY7oniTnBYYWdqSHNGSUU \n",
            "\n",
            "mv: cannot stat 'yolo.weights': No such file or directory\n",
            "[Errno 2] No such file or directory: 'darkflow-master'\n",
            "/content/darkflow-master\n"
          ]
        },
        {
          "output_type": "error",
          "ename": "ValueError",
          "evalue": "ignored",
          "traceback": [
            "\u001b[0;31m---------------------------------------------------------------------------\u001b[0m",
            "\u001b[0;31mValueError\u001b[0m                                Traceback (most recent call last)",
            "\u001b[0;32m<ipython-input-11-a6b0ef1efb24>\u001b[0m in \u001b[0;36m<cell line: 32>\u001b[0;34m()\u001b[0m\n\u001b[1;32m     30\u001b[0m \u001b[0;31m# Imports\u001b[0m\u001b[0;34m\u001b[0m\u001b[0;34m\u001b[0m\u001b[0m\n\u001b[1;32m     31\u001b[0m \u001b[0mget_ipython\u001b[0m\u001b[0;34m(\u001b[0m\u001b[0;34m)\u001b[0m\u001b[0;34m.\u001b[0m\u001b[0mrun_line_magic\u001b[0m\u001b[0;34m(\u001b[0m\u001b[0;34m'cd'\u001b[0m\u001b[0;34m,\u001b[0m \u001b[0;34m'darkflow-master'\u001b[0m\u001b[0;34m)\u001b[0m\u001b[0;34m\u001b[0m\u001b[0;34m\u001b[0m\u001b[0m\n\u001b[0;32m---> 32\u001b[0;31m \u001b[0mget_ipython\u001b[0m\u001b[0;34m(\u001b[0m\u001b[0;34m)\u001b[0m\u001b[0;34m.\u001b[0m\u001b[0mrun_line_magic\u001b[0m\u001b[0;34m(\u001b[0m\u001b[0;34m'tensorflow_version'\u001b[0m\u001b[0;34m,\u001b[0m \u001b[0;34m'1.15.0rc2'\u001b[0m\u001b[0;34m)\u001b[0m\u001b[0;34m\u001b[0m\u001b[0;34m\u001b[0m\u001b[0m\n\u001b[0m\u001b[1;32m     33\u001b[0m \u001b[0;34m\u001b[0m\u001b[0m\n\u001b[1;32m     34\u001b[0m \u001b[0;31m# For importing/exporting files, working with arrays, etc\u001b[0m\u001b[0;34m\u001b[0m\u001b[0;34m\u001b[0m\u001b[0m\n",
            "\u001b[0;32m/usr/local/lib/python3.10/dist-packages/IPython/core/interactiveshell.py\u001b[0m in \u001b[0;36mrun_line_magic\u001b[0;34m(self, magic_name, line, _stack_depth)\u001b[0m\n\u001b[1;32m   2416\u001b[0m                 \u001b[0mkwargs\u001b[0m\u001b[0;34m[\u001b[0m\u001b[0;34m'local_ns'\u001b[0m\u001b[0;34m]\u001b[0m \u001b[0;34m=\u001b[0m \u001b[0mself\u001b[0m\u001b[0;34m.\u001b[0m\u001b[0mget_local_scope\u001b[0m\u001b[0;34m(\u001b[0m\u001b[0mstack_depth\u001b[0m\u001b[0;34m)\u001b[0m\u001b[0;34m\u001b[0m\u001b[0;34m\u001b[0m\u001b[0m\n\u001b[1;32m   2417\u001b[0m             \u001b[0;32mwith\u001b[0m \u001b[0mself\u001b[0m\u001b[0;34m.\u001b[0m\u001b[0mbuiltin_trap\u001b[0m\u001b[0;34m:\u001b[0m\u001b[0;34m\u001b[0m\u001b[0;34m\u001b[0m\u001b[0m\n\u001b[0;32m-> 2418\u001b[0;31m                 \u001b[0mresult\u001b[0m \u001b[0;34m=\u001b[0m \u001b[0mfn\u001b[0m\u001b[0;34m(\u001b[0m\u001b[0;34m*\u001b[0m\u001b[0margs\u001b[0m\u001b[0;34m,\u001b[0m \u001b[0;34m**\u001b[0m\u001b[0mkwargs\u001b[0m\u001b[0;34m)\u001b[0m\u001b[0;34m\u001b[0m\u001b[0;34m\u001b[0m\u001b[0m\n\u001b[0m\u001b[1;32m   2419\u001b[0m             \u001b[0;32mreturn\u001b[0m \u001b[0mresult\u001b[0m\u001b[0;34m\u001b[0m\u001b[0;34m\u001b[0m\u001b[0m\n\u001b[1;32m   2420\u001b[0m \u001b[0;34m\u001b[0m\u001b[0m\n",
            "\u001b[0;32m/usr/local/lib/python3.10/dist-packages/google/colab/_tensorflow_magics.py\u001b[0m in \u001b[0;36m_tensorflow_version\u001b[0;34m(line)\u001b[0m\n\u001b[1;32m     33\u001b[0m \u001b[0;34m\u001b[0m\u001b[0m\n\u001b[1;32m     34\u001b[0m   \u001b[0;32mif\u001b[0m \u001b[0mline\u001b[0m\u001b[0;34m.\u001b[0m\u001b[0mstartswith\u001b[0m\u001b[0;34m(\u001b[0m\u001b[0;34m\"1\"\u001b[0m\u001b[0;34m)\u001b[0m\u001b[0;34m:\u001b[0m\u001b[0;34m\u001b[0m\u001b[0;34m\u001b[0m\u001b[0m\n\u001b[0;32m---> 35\u001b[0;31m     raise ValueError(\n\u001b[0m\u001b[1;32m     36\u001b[0m         \u001b[0;31m# pylint: disable=line-too-long\u001b[0m\u001b[0;34m\u001b[0m\u001b[0;34m\u001b[0m\u001b[0m\n\u001b[1;32m     37\u001b[0m         textwrap.dedent(\n",
            "\u001b[0;31mValueError\u001b[0m: Tensorflow 1 is unsupported in Colab.\n\nYour notebook should be updated to use Tensorflow 2.\nSee the guide at https://www.tensorflow.org/guide/migrate#migrate-from-tensorflow-1x-to-tensorflow-2."
          ]
        }
      ]
    },
    {
      "cell_type": "code",
      "source": [
        "# Load image\n",
        "image = cv2.imread(\"/content/sample_data/content/sample_data/Red_Frames/frame1013.jpg\")\n",
        "\n",
        "\n",
        "# Convert image to HSV color space\n",
        "hsv = cv2.cvtColor(image, cv2.COLOR_BGR2HSV)\n",
        "\n",
        "# Define thresholds for red cards in HSV color space\n",
        "red_min1 = (0, 100, 100)\n",
        "red_max1 = (10, 255, 255)\n",
        "red_min2 = (160, 100, 100)\n",
        "red_max2 = (179, 255, 255)\n",
        "\n",
        "# Threshold the image to get the red card mask\n",
        "red_mask1 = cv2.inRange(hsv, red_min1, red_max1)\n",
        "red_mask2 = cv2.inRange(hsv, red_min2, red_max2)\n",
        "red_mask = cv2.bitwise_or(red_mask1, red_mask2)\n",
        "\n",
        "# Find contours in the mask\n",
        "contours, hierarchy = cv2.findContours(red_mask, cv2.RETR_EXTERNAL, cv2.CHAIN_APPROX_SIMPLE)\n",
        "\n",
        "# Filter out contours that are too small or too large to be cards\n",
        "min_area = 200\n",
        "max_area = 10000\n",
        "cards = []\n",
        "for contour in contours:\n",
        "    area = cv2.contourArea(contour)\n",
        "    if area > min_area and area < max_area:\n",
        "        cards.append(contour)\n",
        "\n",
        "# Draw rectangles around the red cards\n",
        "for card in cards:\n",
        "    (x, y, w, h) = cv2.boundingRect(card)\n",
        "    cv2.rectangle(image, (x, y), (x + w, y + h), (0, 0, 255), 2)\n",
        "\n",
        "# Save annotated image\n",
        "cv2.imwrite(\"annotated_rframe06.jpg\", image)"
      ],
      "metadata": {
        "colab": {
          "base_uri": "https://localhost:8080/"
        },
        "id": "PUL4jxwLiY7r",
        "outputId": "cb93f67b-480f-4c4f-f51b-7624dbcc3c60"
      },
      "execution_count": 6,
      "outputs": [
        {
          "output_type": "execute_result",
          "data": {
            "text/plain": [
              "True"
            ]
          },
          "metadata": {},
          "execution_count": 6
        }
      ]
    },
    {
      "cell_type": "code",
      "source": [
        "# Load image\n",
        "image = cv2.imread(\"/content/sample_data/Yellow Frames/frame17.jpg\")\n",
        "\n",
        "\n",
        "# Convert image to HSV color space\n",
        "hsv = cv2.cvtColor(image, cv2.COLOR_BGR2HSV)\n",
        "\n",
        "# Define thresholds for yellow cards in HSV color space\n",
        "yellow_min1 = (20, 100, 100)\n",
        "yellow_max1 = (30, 255, 255)\n",
        "yellow_min2 = (50, 100, 100)\n",
        "yellow_max2 = (60, 255, 255)\n",
        "\n",
        "# Threshold the image to get the yellow card mask\n",
        "yellow_mask1 = cv2.inRange(hsv, yellow_min1, yellow_max1)\n",
        "yellow_mask2 = cv2.inRange(hsv, yellow_min2, yellow_max2)\n",
        "yellow_mask = cv2.bitwise_or(yellow_mask1, yellow_mask2)\n",
        "\n",
        "# Find contours in the mask\n",
        "contours, hierarchy = cv2.findContours(yellow_mask, cv2.RETR_EXTERNAL, cv2.CHAIN_APPROX_SIMPLE)\n",
        "\n",
        "# Filter out contours that are too small or too large to be cards\n",
        "min_area = 150\n",
        "max_area = 2000\n",
        "cards = []\n",
        "for contour in contours:\n",
        "    area = cv2.contourArea(contour)\n",
        "    if area > min_area and area < max_area:\n",
        "        cards.append(contour)\n",
        "    \n",
        "    # Draw rectangles around the yellow cards\n",
        "for card in cards:\n",
        "    (x, y, w, h) = cv2.boundingRect(card)\n",
        "    cv2.rectangle(image, (x, y), (x + w, y + h), (0, 255, 255), 2)\n",
        "\n",
        "\n",
        "# Save the annotated image\n",
        "cv2.imwrite(\"annotated_iframe02.jpg\", image)"
      ],
      "metadata": {
        "colab": {
          "base_uri": "https://localhost:8080/"
        },
        "id": "1YJDR3kUk-LZ",
        "outputId": "39ade1b2-bfd2-46c3-ffe6-f4ce146820d9"
      },
      "execution_count": null,
      "outputs": [
        {
          "output_type": "execute_result",
          "data": {
            "text/plain": [
              "True"
            ]
          },
          "metadata": {},
          "execution_count": 36
        }
      ]
    },
    {
      "cell_type": "code",
      "source": [
        "# Load image\n",
        "image = cv2.imread(\"/content/sample_data/yellowcard detection/imagey04.jpg\")\n",
        "\n",
        "\n",
        "# Convert image to HSV color space\n",
        "hsv = cv2.cvtColor(image, cv2.COLOR_BGR2HSV)\n",
        "\n",
        "# Define thresholds for yellow cards in HSV color space\n",
        "yellow_min1 = (20, 100, 100)\n",
        "yellow_max1 = (30, 255, 255)\n",
        "yellow_min2 = (50, 100, 100)\n",
        "yellow_max2 = (60, 255, 255)\n",
        "\n",
        "# Threshold the image to get the yellow card mask\n",
        "yellow_mask1 = cv2.inRange(hsv, yellow_min1, yellow_max1)\n",
        "yellow_mask2 = cv2.inRange(hsv, yellow_min2, yellow_max2)\n",
        "yellow_mask = cv2.bitwise_or(yellow_mask1, yellow_mask2)\n",
        "\n",
        "# Find contours in the mask\n",
        "contours, hierarchy = cv2.findContours(yellow_mask, cv2.RETR_EXTERNAL, cv2.CHAIN_APPROX_SIMPLE)\n",
        "\n",
        "# Filter out contours that are too small or too large to be cards\n",
        "min_area = 10\n",
        "max_area = 40\n",
        "cards = []\n",
        "for contour in contours:\n",
        "    area = cv2.contourArea(contour)\n",
        "    if area > min_area and area < max_area:\n",
        "        cards.append(contour)\n",
        "    \n",
        "    # Draw rectangles around the yellow cards\n",
        "for card in cards:\n",
        "    (x, y, w, h) = cv2.boundingRect(card)\n",
        "    cv2.rectangle(image, (x, y), (x + w, y + h), (0, 255, 255), 2)\n",
        "\n",
        "\n",
        "# Save the annotated image\n",
        "cv2.imwrite(\"annotated_imagey04.jpg\", image)"
      ],
      "metadata": {
        "id": "XCjyoVQqk4W4"
      },
      "execution_count": null,
      "outputs": []
    },
    {
      "cell_type": "code",
      "source": [
        "# Read the video from specified path\n",
        "cam = cv2.VideoCapture(\"/content/Gabriel Martinelli’s two yellow cards in five seconds (1).mp4\")\n",
        "  \n",
        "try:\n",
        "      \n",
        "    # creating a folder named data\n",
        "    if not os.path.exists('/content/sample_data/Gabriel Martinelli’s two yellow cards in five seconds (1)'):\n",
        "        os.makedirs('/content/sample_data/Gabriel Martinelli’s two yellow cards in five seconds (1)')\n",
        "  \n",
        "# if not created then raise error\n",
        "except OSError:\n",
        "    print ('Error: Creating directory of data')\n",
        "  \n",
        "# frame\n",
        "currentframe = 0\n",
        "  \n",
        "while(True):\n",
        "      \n",
        "    # reading from frame\n",
        "    ret,frame = cam.read()\n",
        "  \n",
        "    if ret:\n",
        "        # if video is still left continue creating images\n",
        "        # save frame\n",
        "        name = '/content/sample_data/Gabriel Martinelli’s two yellow cards in five seconds (1)/frame' + str(currentframe) + '.jpg'\n",
        "        print ('Creating...' + name)\n",
        "  \n",
        "        # writing the extracted images\n",
        "        cv2.imwrite(name, frame)\n",
        "  \n",
        "        # increasing counter so that it will\n",
        "        # show how many frames are created\n",
        "        currentframe += 10 # i.e. at 30 fps, this advances one second\n",
        "        cam.set(1, currentframe)\n",
        "    else:\n",
        "        break\n",
        "\n",
        "cam.release()\n",
        "cv2.destroyAllWindows()"
      ],
      "metadata": {
        "colab": {
          "base_uri": "https://localhost:8080/"
        },
        "id": "ZkTzFPPk1Owl",
        "outputId": "04a4aa3f-ef41-4805-d470-f41574f1acdb"
      },
      "execution_count": null,
      "outputs": [
        {
          "output_type": "stream",
          "name": "stdout",
          "text": [
            "Creating.../content/sample_data/Gabriel Martinelli’s two yellow cards in five seconds (1)/frame0.jpg\n",
            "Creating.../content/sample_data/Gabriel Martinelli’s two yellow cards in five seconds (1)/frame10.jpg\n",
            "Creating.../content/sample_data/Gabriel Martinelli’s two yellow cards in five seconds (1)/frame20.jpg\n",
            "Creating.../content/sample_data/Gabriel Martinelli’s two yellow cards in five seconds (1)/frame30.jpg\n",
            "Creating.../content/sample_data/Gabriel Martinelli’s two yellow cards in five seconds (1)/frame40.jpg\n",
            "Creating.../content/sample_data/Gabriel Martinelli’s two yellow cards in five seconds (1)/frame50.jpg\n",
            "Creating.../content/sample_data/Gabriel Martinelli’s two yellow cards in five seconds (1)/frame60.jpg\n",
            "Creating.../content/sample_data/Gabriel Martinelli’s two yellow cards in five seconds (1)/frame70.jpg\n",
            "Creating.../content/sample_data/Gabriel Martinelli’s two yellow cards in five seconds (1)/frame80.jpg\n",
            "Creating.../content/sample_data/Gabriel Martinelli’s two yellow cards in five seconds (1)/frame90.jpg\n",
            "Creating.../content/sample_data/Gabriel Martinelli’s two yellow cards in five seconds (1)/frame100.jpg\n",
            "Creating.../content/sample_data/Gabriel Martinelli’s two yellow cards in five seconds (1)/frame110.jpg\n",
            "Creating.../content/sample_data/Gabriel Martinelli’s two yellow cards in five seconds (1)/frame120.jpg\n",
            "Creating.../content/sample_data/Gabriel Martinelli’s two yellow cards in five seconds (1)/frame130.jpg\n",
            "Creating.../content/sample_data/Gabriel Martinelli’s two yellow cards in five seconds (1)/frame140.jpg\n",
            "Creating.../content/sample_data/Gabriel Martinelli’s two yellow cards in five seconds (1)/frame150.jpg\n",
            "Creating.../content/sample_data/Gabriel Martinelli’s two yellow cards in five seconds (1)/frame160.jpg\n",
            "Creating.../content/sample_data/Gabriel Martinelli’s two yellow cards in five seconds (1)/frame170.jpg\n",
            "Creating.../content/sample_data/Gabriel Martinelli’s two yellow cards in five seconds (1)/frame180.jpg\n",
            "Creating.../content/sample_data/Gabriel Martinelli’s two yellow cards in five seconds (1)/frame190.jpg\n",
            "Creating.../content/sample_data/Gabriel Martinelli’s two yellow cards in five seconds (1)/frame200.jpg\n",
            "Creating.../content/sample_data/Gabriel Martinelli’s two yellow cards in five seconds (1)/frame210.jpg\n",
            "Creating.../content/sample_data/Gabriel Martinelli’s two yellow cards in five seconds (1)/frame220.jpg\n",
            "Creating.../content/sample_data/Gabriel Martinelli’s two yellow cards in five seconds (1)/frame230.jpg\n"
          ]
        }
      ]
    },
    {
      "cell_type": "code",
      "source": [
        "options = {\"model\": \"/content/yolo_custom.cfg\", \n",
        "           \"load\": \"bin/yolo.weights\",\n",
        "           \"batch\": 8,\n",
        "           \"epoch\": 100,\n",
        "           \"gpu\": 1.0,\n",
        "           \"train\": True,\n",
        "           \"annotation\": \"./annotations/\",\n",
        "           \"dataset\": \"./images/\"}"
      ],
      "metadata": {
        "id": "udSkZL7uihAp"
      },
      "execution_count": null,
      "outputs": []
    },
    {
      "cell_type": "code",
      "source": [
        "tfnet = TFNet(options)"
      ],
      "metadata": {
        "id": "XxsJQidGtJ-A"
      },
      "execution_count": null,
      "outputs": []
    },
    {
      "cell_type": "code",
      "source": [
        "tfnet.train()"
      ],
      "metadata": {
        "id": "Mevq2UoswNbG"
      },
      "execution_count": null,
      "outputs": []
    },
    {
      "cell_type": "code",
      "source": [
        "options = {\"model\": \"cfg/yolo_custom.cfg\",\n",
        "           \"load\": -1,\n",
        "           \"gpu\": 1.0}"
      ],
      "metadata": {
        "id": "Mar0Jq7VwQQN"
      },
      "execution_count": null,
      "outputs": []
    },
    {
      "cell_type": "code",
      "source": [
        "tfnet2 = TFNet(options)"
      ],
      "metadata": {
        "id": "5YSFZDaEwTU3"
      },
      "execution_count": null,
      "outputs": []
    },
    {
      "cell_type": "code",
      "source": [
        "tfnet2.load_from_ckpt()"
      ],
      "metadata": {
        "id": "pvEpHnuVwVNC"
      },
      "execution_count": null,
      "outputs": []
    },
    {
      "cell_type": "code",
      "source": [
        "import pprint as pp\n",
        "\n",
        "original_img = cv2.imread(\"/content/sample.jpg\")\n",
        "original_img = cv2.cvtColor(original_img, cv2.COLOR_BGR2RGB)\n",
        "results = tfnet2.return_predict(original_img)\n",
        "print(results)"
      ],
      "metadata": {
        "id": "62IlJMPEwX5f"
      },
      "execution_count": null,
      "outputs": []
    },
    {
      "cell_type": "code",
      "source": [
        "fig, ax = plt.subplots(figsize=(15, 15))\n",
        "ax.imshow(original_img)"
      ],
      "metadata": {
        "id": "n4DmnFibwbjR"
      },
      "execution_count": null,
      "outputs": []
    },
    {
      "cell_type": "code",
      "source": [
        "def boxing(original_img , predictions):\n",
        "    newImage = np.copy(original_img)\n",
        "\n",
        "    for result in predictions:\n",
        "        top_x = result['topleft']['x']\n",
        "        top_y = result['topleft']['y']\n",
        "\n",
        "        btm_x = result['bottomright']['x']\n",
        "        btm_y = result['bottomright']['y']\n",
        "\n",
        "        confidence = result['confidence']\n",
        "        label = result['label'] + \" \" + str(round(confidence, 3))\n",
        "        \n",
        "        if confidence > 0.3:\n",
        "            newImage = cv2.rectangle(newImage, (top_x, top_y), (btm_x, btm_y), (255,0,0), 3)\n",
        "            newImage = cv2.putText(newImage, label, (top_x, top_y-5), cv2.FONT_HERSHEY_COMPLEX_SMALL , 0.8, (0, 230, 0), 1, cv2.LINE_AA)\n",
        "        \n",
        "    return newImage"
      ],
      "metadata": {
        "id": "zm2vZRlNwdrk"
      },
      "execution_count": null,
      "outputs": []
    },
    {
      "cell_type": "code",
      "source": [
        "fig, ax = plt.subplots(figsize=(20, 10))\n",
        "ax.imshow(boxing(original_img, results))"
      ],
      "metadata": {
        "id": "oJBh75UDwdy7"
      },
      "execution_count": null,
      "outputs": []
    },
    {
      "cell_type": "code",
      "source": [
        "from math import ceil\n",
        "\n",
        "fig, ax = plt.subplots(nrows=2, ncols=3, figsize=(20, 10))\n",
        "\n",
        "for i in range(5):\n",
        "    original_img = cv2.imread(\"/content/sample\" + str(i+1) + \".jpg\")\n",
        "    original_img = cv2.cvtColor(original_img, cv2.COLOR_BGR2RGB)\n",
        "    results = tfnet2.return_predict(original_img)\n",
        "    \n",
        "    ax[ceil(i/3)-1, i%3].imshow(boxing(original_img, results))"
      ],
      "metadata": {
        "id": "FE0AVvwRwkrq"
      },
      "execution_count": null,
      "outputs": []
    },
    {
      "cell_type": "code",
      "source": [
        "cap = cv2.VideoCapture('./sample_video/test_video.avi')\n",
        "width = cap.get(cv2.CAP_PROP_FRAME_WIDTH)   \n",
        "height = cap.get(cv2.CAP_PROP_FRAME_HEIGHT) \n",
        "\n",
        "fourcc = cv2.VideoWriter_fourcc(*'DIVX')\n",
        "out = cv2.VideoWriter('./sample_video/output.avi',fourcc, 20.0, (int(width), int(height)))\n",
        "\n",
        "while(True):\n",
        "    # Capture frame-by-frame\n",
        "    ret, frame = cap.read()\n",
        "    \n",
        "    if ret == True:\n",
        "        frame = np.asarray(frame)      \n",
        "        results = tfnet2.return_predict(frame)\n",
        "        \n",
        "        new_frame = boxing(frame, results)\n",
        "\n",
        "        # Display the resulting frame\n",
        "        out.write(new_frame)\n",
        "        cv2.imshow('frame', new_frame)\n",
        "        if cv2.waitKey(1) & 0xFF == ord('q'):\n",
        "            break\n",
        "    else:\n",
        "        break\n",
        "\n",
        "# When everything done, release the capture\n",
        "cap.release()\n",
        "out.release()\n",
        "cv2.destroyAllWindows()"
      ],
      "metadata": {
        "id": "JR6gzXD2wrbA"
      },
      "execution_count": null,
      "outputs": []
    },
    {
      "cell_type": "code",
      "source": [
        "from IPython.display import YouTubeVideo\n",
        "YouTubeVideo('xyz')"
      ],
      "metadata": {
        "id": "K9Rx-s2bwr9d"
      },
      "execution_count": null,
      "outputs": []
    }
  ]
}